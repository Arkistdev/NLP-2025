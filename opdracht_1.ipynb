{
 "cells": [
  {
   "cell_type": "code",
   "execution_count": 1,
   "metadata": {},
   "outputs": [],
   "source": [
    "import matplotlib.pyplot as plt\n",
    "import pickle as pkl\n",
    "import pandas as pd\n",
    "import numpy as np"
   ]
  },
  {
   "cell_type": "markdown",
   "metadata": {},
   "source": [
    "# Deel I: Vector Space Models"
   ]
  },
  {
   "cell_type": "code",
   "execution_count": 2,
   "metadata": {},
   "outputs": [
    {
     "data": {
      "text/html": [
       "<div>\n",
       "<style scoped>\n",
       "    .dataframe tbody tr th:only-of-type {\n",
       "        vertical-align: middle;\n",
       "    }\n",
       "\n",
       "    .dataframe tbody tr th {\n",
       "        vertical-align: top;\n",
       "    }\n",
       "\n",
       "    .dataframe thead th {\n",
       "        text-align: right;\n",
       "    }\n",
       "</style>\n",
       "<table border=\"1\" class=\"dataframe\">\n",
       "  <thead>\n",
       "    <tr style=\"text-align: right;\">\n",
       "      <th></th>\n",
       "      <th>city1</th>\n",
       "      <th>country1</th>\n",
       "      <th>city2</th>\n",
       "      <th>country2</th>\n",
       "    </tr>\n",
       "  </thead>\n",
       "  <tbody>\n",
       "    <tr>\n",
       "      <th>0</th>\n",
       "      <td>Athens</td>\n",
       "      <td>Greece</td>\n",
       "      <td>Baghdad</td>\n",
       "      <td>Iraq</td>\n",
       "    </tr>\n",
       "    <tr>\n",
       "      <th>1</th>\n",
       "      <td>Athens</td>\n",
       "      <td>Greece</td>\n",
       "      <td>Bangkok</td>\n",
       "      <td>Thailand</td>\n",
       "    </tr>\n",
       "    <tr>\n",
       "      <th>2</th>\n",
       "      <td>Athens</td>\n",
       "      <td>Greece</td>\n",
       "      <td>Beijing</td>\n",
       "      <td>China</td>\n",
       "    </tr>\n",
       "    <tr>\n",
       "      <th>3</th>\n",
       "      <td>Athens</td>\n",
       "      <td>Greece</td>\n",
       "      <td>Berlin</td>\n",
       "      <td>Germany</td>\n",
       "    </tr>\n",
       "    <tr>\n",
       "      <th>4</th>\n",
       "      <td>Athens</td>\n",
       "      <td>Greece</td>\n",
       "      <td>Bern</td>\n",
       "      <td>Switzerland</td>\n",
       "    </tr>\n",
       "  </tbody>\n",
       "</table>\n",
       "</div>"
      ],
      "text/plain": [
       "    city1 country1    city2     country2\n",
       "0  Athens   Greece  Baghdad         Iraq\n",
       "1  Athens   Greece  Bangkok     Thailand\n",
       "2  Athens   Greece  Beijing        China\n",
       "3  Athens   Greece   Berlin      Germany\n",
       "4  Athens   Greece     Bern  Switzerland"
      ]
     },
     "execution_count": 2,
     "metadata": {},
     "output_type": "execute_result"
    }
   ],
   "source": [
    "capitals_df = pd.read_csv(\"data/capitals.txt\", delimiter=\" \", names=[\"city1\", \"country1\", \"city2\", \"country2\"])\n",
    "capitals_df.head()"
   ]
  },
  {
   "cell_type": "code",
   "execution_count": 3,
   "metadata": {},
   "outputs": [
    {
     "name": "stdout",
     "output_type": "stream",
     "text": [
      "['country', 'city', 'China', 'Iraq', 'oil', 'town', 'Canada', 'London', 'England', 'Australia', 'Japan', 'Pakistan', 'Iran', 'gas', 'happy', 'Russia', 'Afghanistan', 'France', 'Germany', 'Georgia', 'Baghdad', 'village', 'Spain', 'Italy', 'Beijing', 'Jordan', 'Paris', 'Ireland', 'Turkey', 'Egypt', 'Lebanon', 'Taiwan', 'Tokyo', 'Nigeria', 'Vietnam', 'Moscow', 'Greece', 'Indonesia', 'sad', 'Syria', 'Thailand', 'Libya', 'Zimbabwe', 'Cuba', 'Ottawa', 'Tehran', 'Sudan', 'Kenya', 'Philippines', 'Sweden', 'Poland', 'Ukraine', 'Rome', 'Venezuela', 'Switzerland', 'Berlin', 'Bangladesh', 'Portugal', 'Ghana', 'Athens', 'king', 'Madrid', 'Somalia', 'Dublin', 'Qatar', 'Chile', 'Islamabad', 'Bahrain', 'Nepal', 'Norway', 'Serbia', 'Kabul', 'continent', 'Brussels', 'Belgium', 'Uganda', 'petroleum', 'Cairo', 'Denmark', 'Austria', 'Jamaica', 'Georgetown', 'Bangkok', 'Finland', 'Peru', 'Romania', 'Bulgaria', 'Hungary', 'Vienna', 'Kingston', 'Manila', 'Cyprus', 'Azerbaijan', 'Copenhagen', 'Fiji', 'Tunisia', 'Kazakhstan', 'queen', 'Beirut', 'Jakarta', 'Croatia', 'Belarus', 'Algeria', 'Malta', 'Morocco', 'Rwanda', 'Bahamas', 'Damascus', 'Ecuador', 'Angola', 'Canberra', 'Liberia', 'Honduras', 'Tripoli', 'Slovakia', 'Doha', 'Armenia', 'Taipei', 'Oman', 'Nairobi', 'Santiago', 'Guinea', 'Uruguay', 'Stockholm', 'Slovenia', 'Zambia', 'Havana', 'Uzbekistan', 'Belgrade', 'Mogadishu', 'Khartoum', 'Botswana', 'Kyrgyzstan', 'Dhaka', 'Namibia', 'Ankara', 'Abuja', 'Lima', 'Harare', 'Warsaw', 'Malawi', 'Lisbon', 'Latvia', 'Niger', 'Lithuania', 'Estonia', 'Samoa', 'Oslo', 'Nicaragua', 'Hanoi', 'Sofia', 'Macedonia', 'Senegal', 'Mozambique', 'Guyana', 'Mali', 'Accra', 'Kathmandu', 'Tbilisi', 'Helsinki', 'Montenegro', 'Caracas', 'Laos', 'Budapest', 'Kiev', 'Turkmenistan', 'Eritrea', 'Albania', 'Madagascar', 'Nassau', 'Kampala', 'Amman', 'Greenland', 'Belize', 'Moldova', 'Burundi', 'Tajikistan', 'Baku', 'Astana', 'Gambia', 'Bucharest', 'joyful', 'Monrovia', 'Mauritania', 'Algiers', 'Muscat', 'Bern', 'Luanda', 'Dakar', 'Tunis', 'Gabon', 'Minsk', 'Liechtenstein', 'Suva', 'Yerevan', 'Zagreb', 'Bishkek', 'Manama', 'Kigali', 'Riga', 'Lusaka', 'Tashkent', 'Nicosia', 'Valletta', 'Windhoek', 'Dominica', 'Quito', 'Tallinn', 'Bratislava', 'Tegucigalpa', 'Skopje', 'Gaborone', 'Rabat', 'Maputo', 'Suriname', 'Vilnius', 'Montevideo', 'Ljubljana', 'Tirana', 'Dushanbe', 'Ashgabat', 'Asmara', 'Tuvalu', 'Managua', 'Conakry', 'Banjul', 'Bamako', 'Lilongwe', 'Vientiane', 'Chisinau', 'Roseau', 'Nouakchott', 'Podgorica', 'Niamey', 'Bujumbura', 'Apia', 'Antananarivo', 'Libreville', 'Belmopan', 'Vaduz', 'Paramaribo', 'Nuuk', 'Funafuti']\n",
      "<class 'dict'>\n",
      "size: 300 \n",
      "China embedding:\n",
      " [-0.07324219  0.13574219  0.10888672  0.08300781 -0.12792969 -0.22753906\n",
      "  0.15136719 -0.0456543  -0.06542969  0.03442383 -0.140625   -0.02355957\n",
      "  0.24609375 -0.27148438 -0.1875     -0.11865234 -0.06494141  0.03515625\n",
      "  0.01422119 -0.12890625  0.22558594 -0.32617188  0.0201416  -0.0168457\n",
      "  0.07958984  0.15234375 -0.04125977  0.04956055 -0.06689453  0.3828125\n",
      " -0.05175781 -0.16601562 -0.421875   -0.11767578  0.19921875 -0.05151367\n",
      " -0.06176758  0.16210938  0.34765625  0.2109375   0.14941406  0.02966309\n",
      " -0.00077057  0.04150391  0.10693359  0.16210938 -0.16113281  0.23339844\n",
      " -0.14550781  0.06005859  0.09130859  0.13183594 -0.09375     0.12011719\n",
      "  0.00643921  0.28320312 -0.37890625 -0.12988281  0.3359375  -0.19335938\n",
      "  0.01519775  0.11279297 -0.06982422 -0.05175781 -0.15429688 -0.03662109\n",
      " -0.03442383 -0.15234375  0.15234375  0.12402344 -0.36328125 -0.02355957\n",
      "  0.0625      0.03710938  0.12402344 -0.2265625   0.14648438  0.08984375\n",
      " -0.10986328  0.20605469  0.10253906 -0.1875      0.01495361  0.01275635\n",
      " -0.22070312 -0.19433594 -0.02575684 -0.07958984  0.02648926  0.02001953\n",
      "  0.07470703 -0.01257324 -0.26367188 -0.07519531 -0.09619141 -0.07373047\n",
      "  0.02734375 -0.10449219  0.12988281  0.12011719]\n"
     ]
    }
   ],
   "source": [
    "word_embeddings = pkl.load(open(\"data/word_embeddings_subset.p\", \"rb\"))\n",
    "print(list(word_embeddings.keys()))\n",
    "print(type(word_embeddings))\n",
    "print(\"size:\", word_embeddings[\"China\"].size, \"\\nChina embedding:\\n\", word_embeddings[\"China\"][:100])"
   ]
  },
  {
   "cell_type": "code",
   "execution_count": 4,
   "metadata": {},
   "outputs": [],
   "source": [
    "def cosine_similarity(a: np.array, b: np.array) -> np.float32:\n",
    "   return np.dot(a, b) / np.dot(np.sqrt(np.sum(np.abs(a) ** 2)), np.sqrt(np.sum(np.abs(b) ** 2)))"
   ]
  },
  {
   "cell_type": "code",
   "execution_count": 5,
   "metadata": {},
   "outputs": [],
   "source": [
    "def eucilidean_distance(a: np.array, b: np.array) -> np.float32:\n",
    "    return np.sqrt(np.sum((a - b) ** 2))"
   ]
  },
  {
   "cell_type": "code",
   "execution_count": 6,
   "metadata": {},
   "outputs": [
    {
     "data": {
      "text/plain": [
       "0.65109557"
      ]
     },
     "execution_count": 6,
     "metadata": {},
     "output_type": "execute_result"
    }
   ],
   "source": [
    "cosine_similarity(word_embeddings[\"king\"], word_embeddings[\"queen\"])"
   ]
  },
  {
   "cell_type": "code",
   "execution_count": 7,
   "metadata": {},
   "outputs": [
    {
     "data": {
      "text/plain": [
       "2.4796925"
      ]
     },
     "execution_count": 7,
     "metadata": {},
     "output_type": "execute_result"
    }
   ],
   "source": [
    "eucilidean_distance(word_embeddings[\"king\"], word_embeddings[\"queen\"])"
   ]
  },
  {
   "cell_type": "code",
   "execution_count": 8,
   "metadata": {},
   "outputs": [],
   "source": [
    "def find_closest(city1: str, country1: str, city2: str, embeddings: dict[str, np.array]) -> tuple[str, np.float32]:\n",
    "    base = embeddings[country1] - embeddings[city1] + embeddings[city2] # base maar 1 keer calculeren\n",
    "\n",
    "    max_val = -1\n",
    "    max_country = None\n",
    "\n",
    "    for key, embedding in embeddings.items(): # simpel max value algoritme\n",
    "        if not key in [city1, country1, city2]:\n",
    "            val = cosine_similarity(base, embedding) # similarity uitrekenen\n",
    "            if val > max_val:\n",
    "                max_val = val\n",
    "                max_country = key\n",
    "\n",
    "    return (max_country, max_val)"
   ]
  },
  {
   "cell_type": "code",
   "execution_count": 9,
   "metadata": {},
   "outputs": [
    {
     "data": {
      "text/plain": [
       "('Egypt', 0.7626821)"
      ]
     },
     "execution_count": 9,
     "metadata": {},
     "output_type": "execute_result"
    }
   ],
   "source": [
    "find_closest(\"Athens\", \"Greece\", \"Cairo\", word_embeddings)"
   ]
  },
  {
   "cell_type": "code",
   "execution_count": 10,
   "metadata": {},
   "outputs": [
    {
     "name": "stdout",
     "output_type": "stream",
     "text": [
      "0.9192245557350566\n"
     ]
    }
   ],
   "source": [
    "correct = 0\n",
    "\n",
    "for index, (city1, country1, city2, country2) in capitals_df.iterrows(): # iterrows geeft key en value van elke row. de values unpack in gelijk naar de goede variabelen\n",
    "    guess = find_closest(city1, country1, city2, word_embeddings)[0]\n",
    "    if guess == country2: # als het goed is +1\n",
    "        correct += 1 \n",
    "\n",
    "print(correct/capitals_df.shape[0])"
   ]
  },
  {
   "cell_type": "markdown",
   "metadata": {},
   "source": [
    "Goed genoeg"
   ]
  },
  {
   "cell_type": "markdown",
   "metadata": {},
   "source": [
    "# Deel II: Principle Component Analysis\n"
   ]
  },
  {
   "cell_type": "code",
   "execution_count": 11,
   "metadata": {},
   "outputs": [],
   "source": [
    "def compute_PCA(X : np.array, n_components : int) -> np.array:\n",
    "    # centreren op gemiddelde door gemiddelde van elke waarde af te trekken\n",
    "    X_mean = X - np.mean(X, axis=0)\n",
    "    \n",
    "    # covariance berekenen d.m.v. numpy.cov() en tranposes want we willen de y reducen niet de x,\n",
    "    # rowvar transposed de matrix zodat we de juiste vorm krijgen\n",
    "    cov = np.cov(X_mean, rowvar=False)\n",
    "    \n",
    "    # Eigenvectors / Eigenvalues berekenen d.m.v. numpy.linalg.eigh() en de variance die we net hebben uitgerekend\n",
    "    EigenValues, EigenVectors = np.linalg.eigh(cov)\n",
    "    \n",
    "    # sorteren eigenvalues en daar de indices van nemen met de np.ndarray.argsort() \n",
    "    # en ook gelijk omdraaien door middel van een step waarde van -1\n",
    "    indices = EigenValues.argsort()[::-1]   \n",
    "    \n",
    "    # we nemen de indices van de gesoorterde eigenvalues en passen die toe op de eigenvectors\n",
    "    # willen we de plaatsen van de rows(y-axis) aanpassen niet die van de columns (x-axis)\n",
    "    EigenVectors = EigenVectors[:,indices]\n",
    "    \n",
    "    # nemen n values van eigenvectors\n",
    "    EigenVectors = EigenVectors[:, 0:n_components]\n",
    "    \n",
    "    return np.matmul(X_mean, EigenVectors)"
   ]
  },
  {
   "cell_type": "code",
   "execution_count": 12,
   "metadata": {},
   "outputs": [
    {
     "name": "stdout",
     "output_type": "stream",
     "text": [
      "De originele matrix is (3, 10), en na PCA:\n",
      "[[ 0.43437323  0.49820384]\n",
      " [ 0.42077249 -0.50351448]\n",
      " [-0.85514571  0.00531064]]\n"
     ]
    }
   ],
   "source": [
    "np.random.seed(1)\n",
    "X = np.random.rand(3, 10)\n",
    "X_reduced = compute_PCA(X, n_components=2)\n",
    "\n",
    "\n",
    "print(\"De originele matrix is \" + str(X.shape) + \", en na PCA:\")\n",
    "print(X_reduced)"
   ]
  },
  {
   "cell_type": "code",
   "execution_count": 13,
   "metadata": {},
   "outputs": [],
   "source": [
    "def get_embeddings(words: list[str], embeddings: dict[str, np.array]):\n",
    "    return [value for key, value in embeddings.items() if key in words]"
   ]
  },
  {
   "cell_type": "code",
   "execution_count": 14,
   "metadata": {},
   "outputs": [
    {
     "name": "stdout",
     "output_type": "stream",
     "text": [
      "Embedding oil:\n"
     ]
    },
    {
     "data": {
      "text/plain": [
       "array([-0.08007812,  0.13378906,  0.14355469,  0.09472656, -0.04736328,\n",
       "       -0.02355957, -0.00854492, -0.18652344,  0.04589844, -0.08154297,\n",
       "       -0.03442383, -0.11621094,  0.21777344, -0.10351562, -0.06689453,\n",
       "        0.15332031, -0.19335938,  0.26367188, -0.13671875, -0.05566406,\n",
       "        0.07470703, -0.00070953,  0.09375   , -0.14453125,  0.04296875,\n",
       "       -0.01916504, -0.22558594, -0.12695312, -0.0168457 ,  0.05224609,\n",
       "        0.0625    , -0.1484375 , -0.01965332,  0.17578125,  0.10644531,\n",
       "       -0.04760742, -0.10253906, -0.28515625,  0.10351562,  0.20800781,\n",
       "       -0.07617188, -0.04345703,  0.08642578,  0.08740234,  0.11767578,\n",
       "        0.20996094, -0.07275391,  0.1640625 , -0.01135254,  0.0025177 ,\n",
       "        0.05810547, -0.03222656,  0.06884766,  0.046875  ,  0.10107422,\n",
       "        0.02148438, -0.16210938,  0.07128906, -0.16210938,  0.05981445,\n",
       "        0.05102539, -0.05566406,  0.06787109, -0.03759766,  0.04345703,\n",
       "       -0.03173828, -0.03417969, -0.01116943,  0.06201172, -0.08007812,\n",
       "       -0.14941406,  0.11914062,  0.02575684,  0.00302124,  0.04711914,\n",
       "       -0.17773438,  0.04101562,  0.05541992,  0.00598145,  0.03027344,\n",
       "       -0.07666016, -0.109375  ,  0.02832031, -0.10498047,  0.0100708 ,\n",
       "       -0.03149414, -0.22363281, -0.03125   , -0.01147461,  0.17285156,\n",
       "        0.08056641, -0.10888672, -0.09570312, -0.21777344, -0.07910156,\n",
       "       -0.10009766,  0.06396484, -0.11962891,  0.18652344, -0.02062988],\n",
       "      dtype=float32)"
      ]
     },
     "execution_count": 14,
     "metadata": {},
     "output_type": "execute_result"
    }
   ],
   "source": [
    "labels = ['oil', 'gas', 'happy', 'sad', 'city', 'town', 'village', 'country', 'continent', 'petroleum', 'joyful']\n",
    "label_embeddings = get_embeddings(labels, word_embeddings)\n",
    "print(\"Embedding oil:\", end=None)\n",
    "label_embeddings[0][:100]"
   ]
  },
  {
   "cell_type": "code",
   "execution_count": 15,
   "metadata": {},
   "outputs": [],
   "source": [
    "computed_embeddings = compute_PCA(label_embeddings, 2)"
   ]
  },
  {
   "cell_type": "code",
   "execution_count": 16,
   "metadata": {},
   "outputs": [
    {
     "data": {
      "text/plain": [
       "<matplotlib.legend.Legend at 0x16c344167d0>"
      ]
     },
     "execution_count": 16,
     "metadata": {},
     "output_type": "execute_result"
    },
    {
     "data": {
      "image/png": "[encoded data removed]",
      "text/plain": [
       "<Figure size 640x480 with 1 Axes>"
      ]
     },
     "metadata": {},
     "output_type": "display_data"
    }
   ],
   "source": [
    "import matplotlib.cm as cm\n",
    "\n",
    "colors = cm.rainbow(np.linspace(0, 1, len(labels)))\n",
    "\n",
    "for index, values in enumerate(computed_embeddings):\n",
    "    plt.scatter(*values, color=colors[index], label=labels[index])\n",
    "    \n",
    "plt.legend()"
   ]
  },
  {
   "cell_type": "markdown",
   "metadata": {},
   "source": [
    "woorden die een beetje bij elkaar horen I.e. city, town en village liggen bij elkaar. Ze hebben een bepaalde relatie en die relatie is hier duidelijk te zien. Ook sad, happy, en joyful hebben een \"sterke\" relatie"
   ]
  },
  {
   "cell_type": "markdown",
   "metadata": {},
   "source": []
  }
 ],
 "metadata": {
  "kernelspec": {
   "display_name": ".venv",
   "language": "python",
   "name": "python3"
  },
  "language_info": {
   "codemirror_mode": {
    "name": "ipython",
    "version": 3
   },
   "file_extension": ".py",
   "mimetype": "text/x-python",
   "name": "python",
   "nbconvert_exporter": "python",
   "pygments_lexer": "ipython3",
   "version": "3.9.13"
  }
 },
 "nbformat": 4,
 "nbformat_minor": 2
}
